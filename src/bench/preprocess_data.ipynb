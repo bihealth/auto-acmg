{
 "cells": [
  {
   "cell_type": "code",
   "execution_count": 1,
   "id": "15a7039c-adad-4369-abbc-2ef20eb5c372",
   "metadata": {},
   "outputs": [
    {
     "ename": "ModuleNotFoundError",
     "evalue": "No module named 'src'",
     "output_type": "error",
     "traceback": [
      "\u001b[0;31m---------------------------------------------------------------------------\u001b[0m",
      "\u001b[0;31mModuleNotFoundError\u001b[0m                       Traceback (most recent call last)",
      "Cell \u001b[0;32mIn[1], line 4\u001b[0m\n\u001b[1;32m      2\u001b[0m \u001b[38;5;28;01mimport\u001b[39;00m \u001b[38;5;21;01msys\u001b[39;00m\n\u001b[1;32m      3\u001b[0m \u001b[38;5;28;01mimport\u001b[39;00m \u001b[38;5;21;01mpandas\u001b[39;00m \u001b[38;5;28;01mas\u001b[39;00m \u001b[38;5;21;01mpd\u001b[39;00m\n\u001b[0;32m----> 4\u001b[0m \u001b[38;5;28;01mfrom\u001b[39;00m \u001b[38;5;21;01msrc\u001b[39;00m\u001b[38;5;21;01m.\u001b[39;00m\u001b[38;5;21;01mcore\u001b[39;00m\u001b[38;5;21;01m.\u001b[39;00m\u001b[38;5;21;01mconfig\u001b[39;00m \u001b[38;5;28;01mimport\u001b[39;00m settings\n",
      "\u001b[0;31mModuleNotFoundError\u001b[0m: No module named 'src'"
     ]
    }
   ],
   "source": [
    "import os\n",
    "import pandas as pd\n",
    "from src.core.config import settings"
   ]
  },
  {
   "cell_type": "code",
   "execution_count": null,
   "id": "46de2241-fc9f-4282-badd-b60260821567",
   "metadata": {},
   "outputs": [],
   "source": [
    "path_to_root = settings.PATH_TO_ROOT\n",
    "file_path = os.path.join(path_to_root, \"src\", \"bench\", \"clingen.txt\")\n",
    "\n",
    "# Load the data into a pandas DataFrame\n",
    "data = pd.read_csv(file_path, sep=\"\\t\")\n",
    "\n",
    "# Display the first few rows of the DataFrame to understand its structure\n",
    "data.head()"
   ]
  },
  {
   "cell_type": "code",
   "execution_count": null,
   "id": "7ede5ca6-6a8b-45bf-8f70-b145b6871caf",
   "metadata": {},
   "outputs": [],
   "source": [
    "# Extract the required fields: Variant name, Mode of Inheritance, and add Guideline to Comment\n",
    "data[\"Variant\"] = data[\"Variation\"]\n",
    "data[\"Mode of Inheritance\"] = data[\"Mode of Inheritance\"]\n",
    "data[\"Comment\"] = data[\"Guideline\"]\n",
    "\n",
    "# Select only the required columns\n",
    "result = data[[\"Variant\", \"Mode of Inheritance\", \"Comment\"]]\n",
    "\n",
    "# Display the processed DataFrame\n",
    "result.head()\n",
    "\n",
    "# Save the result to a new CSV file\n",
    "output_file_path = \"/path/to/your/outputfile.csv\"\n",
    "result.to_csv(output_file_path, index=False)\n",
    "\n",
    "# Print a message to indicate the process is complete\n",
    "print(\"Data has been processed and saved to\", output_file_path)"
   ]
  }
 ],
 "metadata": {
  "kernelspec": {
   "display_name": "Python 3 (ipykernel)",
   "language": "python",
   "name": "python3"
  },
  "language_info": {
   "codemirror_mode": {
    "name": "ipython",
    "version": 3
   },
   "file_extension": ".py",
   "mimetype": "text/x-python",
   "name": "python",
   "nbconvert_exporter": "python",
   "pygments_lexer": "ipython3",
   "version": "3.12.2"
  }
 },
 "nbformat": 4,
 "nbformat_minor": 5
}
